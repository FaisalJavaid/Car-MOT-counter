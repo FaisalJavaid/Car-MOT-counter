{
  "cells": [
    {
      "cell_type": "code",
      "execution_count": null,
      "metadata": {
        "colab": {
          "background_save": true,
          "base_uri": "https://localhost:8080/"
        },
        "id": "B83Gdp65uf60",
        "outputId": "aed544d5-7ec1-4697-a99c-17281615acff"
      },
      "outputs": [
        {
          "name": "stdout",
          "output_type": "stream",
          "text": [
            "Welcome to the MOT Management System\n",
            "\n",
            "Options:\n",
            "1. Add a car\n",
            "2. Count cars needing MOT\n",
            "3. Display all cars\n",
            "4. Exit\n"
          ]
        }
      ],
      "source": [
        "import sqlite3\n",
        "\n",
        "# Initialize the database\n",
        "def init_db():\n",
        "    conn = sqlite3.connect(\"mot_records.db\")\n",
        "    cursor = conn.cursor()\n",
        "    cursor.execute('''\n",
        "        CREATE TABLE IF NOT EXISTS cars (\n",
        "            id INTEGER PRIMARY KEY AUTOINCREMENT,\n",
        "            license_plate TEXT NOT NULL,\n",
        "            model TEXT NOT NULL,\n",
        "            owner TEXT,\n",
        "            mot_due_date DATE NOT NULL,\n",
        "            needs_mot BOOLEAN NOT NULL\n",
        "        )\n",
        "    ''')\n",
        "    conn.commit()\n",
        "    conn.close()\n",
        "\n",
        "# Add a car to the database\n",
        "def add_car(license_plate, model, owner, mot_due_date, needs_mot):\n",
        "    conn = sqlite3.connect(\"mot_records.db\")\n",
        "    cursor = conn.cursor()\n",
        "    cursor.execute('''\n",
        "        INSERT INTO cars (license_plate, model, owner, mot_due_date, needs_mot)\n",
        "        VALUES (?, ?, ?, ?, ?)\n",
        "    ''', (license_plate, model, owner, mot_due_date, needs_mot))\n",
        "    conn.commit()\n",
        "    conn.close()\n",
        "\n",
        "# Count cars that need MOT\n",
        "def count_cars_needing_mot():\n",
        "    conn = sqlite3.connect(\"mot_records.db\")\n",
        "    cursor = conn.cursor()\n",
        "    cursor.execute('SELECT COUNT(*) FROM cars WHERE needs_mot = 1')\n",
        "    count = cursor.fetchone()[0]\n",
        "    conn.close()\n",
        "    return count\n",
        "\n",
        "# Display all cars\n",
        "def display_cars():\n",
        "    conn = sqlite3.connect(\"mot_records.db\")\n",
        "    cursor = conn.cursor()\n",
        "    cursor.execute('SELECT * FROM cars')\n",
        "    rows = cursor.fetchall()\n",
        "    conn.close()\n",
        "    for row in rows:\n",
        "        print(row)\n",
        "\n",
        "# Main program\n",
        "def main():\n",
        "    init_db()\n",
        "    print(\"Welcome to the MOT Management System\")\n",
        "\n",
        "    while True:\n",
        "        print(\"\\nOptions:\")\n",
        "        print(\"1. Add a car\")\n",
        "        print(\"2. Count cars needing MOT\")\n",
        "        print(\"3. Display all cars\")\n",
        "        print(\"4. Exit\")\n",
        "        choice = input(\"Choose an option: \")\n",
        "\n",
        "        if choice == \"1\":\n",
        "            license_plate = input(\"Enter license plate: \")\n",
        "            model = input(\"Enter car model: \")\n",
        "            owner = input(\"Enter owner's name: \")\n",
        "            mot_due_date = input(\"Enter MOT due date (YYYY-MM-DD): \")\n",
        "            needs_mot = input(\"Does this car need an MOT? (yes/no): \").lower() == \"yes\"\n",
        "            add_car(license_plate, model, owner, mot_due_date, needs_mot)\n",
        "            print(\"Car added successfully!\")\n",
        "        elif choice == \"2\":\n",
        "            count = count_cars_needing_mot()\n",
        "            print(f\"Number of cars needing MOT: {count}\")\n",
        "        elif choice == \"3\":\n",
        "            display_cars()\n",
        "        elif choice == \"4\":\n",
        "            print(\"Goodbye!\")\n",
        "            break\n",
        "        else:\n",
        "            print(\"Invalid choice. Please try again.\")\n",
        "\n",
        "if __name__ == \"__main__\":\n",
        "    main()\n"
      ]
    }
  ],
  "metadata": {
    "colab": {
      "provenance": []
    },
    "kernelspec": {
      "display_name": "Python 3",
      "name": "python3"
    },
    "language_info": {
      "name": "python"
    }
  },
  "nbformat": 4,
  "nbformat_minor": 0
}